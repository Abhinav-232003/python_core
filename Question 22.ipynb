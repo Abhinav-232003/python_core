{
 "cells": [
  {
   "cell_type": "markdown",
   "id": "44f21dff",
   "metadata": {},
   "source": [
    "# 22. Write a program to compute the frequency of the words from the input. The output should output after sorting the key alphanumerically. \n",
    "# Suppose the input is supplied to the program:  New to Python or choosing between Python 2 and Python 3? Read Python 2 or Python 3.  "
   ]
  },
  {
   "cell_type": "code",
   "execution_count": 1,
   "id": "18e02f9b",
   "metadata": {},
   "outputs": [
    {
     "data": {
      "text/plain": [
       "{'New': 1,\n",
       " 'to': 1,\n",
       " 'Python': 5,\n",
       " 'or': 2,\n",
       " 'choosing': 1,\n",
       " 'between': 1,\n",
       " '2': 2,\n",
       " 'and': 1,\n",
       " '3?': 1,\n",
       " 'Read': 1,\n",
       " '3': 1}"
      ]
     },
     "execution_count": 1,
     "metadata": {},
     "output_type": "execute_result"
    }
   ],
   "source": [
    "a = \"New to Python or choosing between Python 2 and Python 3? Read Python 2 or Python 3\" \n",
    "b = a.split()\n",
    "b\n",
    "{x : b.count(x) for x in b}"
   ]
  },
  {
   "cell_type": "code",
   "execution_count": null,
   "id": "aeccb0f2",
   "metadata": {},
   "outputs": [],
   "source": []
  }
 ],
 "metadata": {
  "kernelspec": {
   "display_name": "Python 3",
   "language": "python",
   "name": "python3"
  },
  "language_info": {
   "codemirror_mode": {
    "name": "ipython",
    "version": 3
   },
   "file_extension": ".py",
   "mimetype": "text/x-python",
   "name": "python",
   "nbconvert_exporter": "python",
   "pygments_lexer": "ipython3",
   "version": "3.8.8"
  }
 },
 "nbformat": 4,
 "nbformat_minor": 5
}
