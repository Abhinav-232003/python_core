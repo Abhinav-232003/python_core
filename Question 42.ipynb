{
 "cells": [
  {
   "cell_type": "markdown",
   "id": "a98a9e34",
   "metadata": {},
   "source": [
    "# Q. With a given tuple (1,2,3,4,5,6,7,8,9,10), write a program to print the first half values in one line and the last half values in one line. "
   ]
  },
  {
   "cell_type": "code",
   "execution_count": 1,
   "id": "c033b977",
   "metadata": {},
   "outputs": [
    {
     "name": "stdout",
     "output_type": "stream",
     "text": [
      "(1, 2, 3, 4, 5)\n",
      "(6, 7, 8, 9, 10)\n"
     ]
    }
   ],
   "source": [
    "l = []\n",
    "\n",
    "t = (1,2,3,4,5,6,7,8,9,10)\n",
    "for i in t:\n",
    "    l.append(i)\n",
    "print(tuple(l[0:5]))\n",
    "print(tuple(l[5:10]))"
   ]
  }
 ],
 "metadata": {
  "kernelspec": {
   "display_name": "Python 3",
   "language": "python",
   "name": "python3"
  },
  "language_info": {
   "codemirror_mode": {
    "name": "ipython",
    "version": 3
   },
   "file_extension": ".py",
   "mimetype": "text/x-python",
   "name": "python",
   "nbconvert_exporter": "python",
   "pygments_lexer": "ipython3",
   "version": "3.8.8"
  }
 },
 "nbformat": 4,
 "nbformat_minor": 5
}
