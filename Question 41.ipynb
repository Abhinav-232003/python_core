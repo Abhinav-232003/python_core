{
 "cells": [
  {
   "cell_type": "markdown",
   "id": "e72b8338",
   "metadata": {},
   "source": [
    "# Q. Define a function which can generate and print a tuple where the value are square of numbers between 1 and 20 (both included). "
   ]
  },
  {
   "cell_type": "code",
   "execution_count": 1,
   "id": "c75e76b4",
   "metadata": {},
   "outputs": [
    {
     "data": {
      "text/plain": [
       "(1,\n",
       " 4,\n",
       " 9,\n",
       " 16,\n",
       " 25,\n",
       " 36,\n",
       " 49,\n",
       " 64,\n",
       " 81,\n",
       " 100,\n",
       " 121,\n",
       " 144,\n",
       " 169,\n",
       " 196,\n",
       " 225,\n",
       " 256,\n",
       " 289,\n",
       " 324,\n",
       " 361,\n",
       " 400)"
      ]
     },
     "execution_count": 1,
     "metadata": {},
     "output_type": "execute_result"
    }
   ],
   "source": [
    "def tup():\n",
    "    l=[]\n",
    "    for i in range(1,21):\n",
    "        l.append(i*i)\n",
    "    return tuple(l)\n",
    "tup()    "
   ]
  }
 ],
 "metadata": {
  "kernelspec": {
   "display_name": "Python 3",
   "language": "python",
   "name": "python3"
  },
  "language_info": {
   "codemirror_mode": {
    "name": "ipython",
    "version": 3
   },
   "file_extension": ".py",
   "mimetype": "text/x-python",
   "name": "python",
   "nbconvert_exporter": "python",
   "pygments_lexer": "ipython3",
   "version": "3.8.8"
  }
 },
 "nbformat": 4,
 "nbformat_minor": 5
}
