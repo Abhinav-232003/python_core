{
 "cells": [
  {
   "cell_type": "markdown",
   "id": "2a57790c",
   "metadata": {},
   "source": [
    "# Q. Use a list comprehension to square each odd number in a list. The list is input by a sequence of comma-separated numbers. \n",
    "# Suppose the input is supplied to the program: 1,2,3,4,5,6,7,8,9 "
   ]
  },
  {
   "cell_type": "code",
   "execution_count": 1,
   "id": "c09cca2f",
   "metadata": {},
   "outputs": [
    {
     "name": "stdout",
     "output_type": "stream",
     "text": [
      "[1, 9, 25, 49, 81]\n"
     ]
    }
   ],
   "source": [
    "a=[1,2,3,4,5,6,7,8,9]\n",
    "\n",
    "newlist=[]\n",
    "for i in a:\n",
    "    if i%2!=0:\n",
    "        newlist.append(i*i)\n",
    "print(newlist)"
   ]
  }
 ],
 "metadata": {
  "kernelspec": {
   "display_name": "Python 3",
   "language": "python",
   "name": "python3"
  },
  "language_info": {
   "codemirror_mode": {
    "name": "ipython",
    "version": 3
   },
   "file_extension": ".py",
   "mimetype": "text/x-python",
   "name": "python",
   "nbconvert_exporter": "python",
   "pygments_lexer": "ipython3",
   "version": "3.8.8"
  }
 },
 "nbformat": 4,
 "nbformat_minor": 5
}
