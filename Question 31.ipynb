{
 "cells": [
  {
   "cell_type": "markdown",
   "id": "2b1b78ca",
   "metadata": {},
   "source": [
    "# Q. Define a function that can accept two strings as input and print the string with maximum length in console. If two strings have the same length, then the function should print al l strings line by line. "
   ]
  },
  {
   "cell_type": "code",
   "execution_count": 1,
   "id": "6869b365",
   "metadata": {},
   "outputs": [
    {
     "name": "stdout",
     "output_type": "stream",
     "text": [
      "enter a wordram\n",
      "enter a wordshyam\n"
     ]
    },
    {
     "data": {
      "text/plain": [
       "'same length'"
      ]
     },
     "execution_count": 1,
     "metadata": {},
     "output_type": "execute_result"
    }
   ],
   "source": [
    "def length():\n",
    "    a=input(\"enter a word\")\n",
    "    b=input(\"enter a word\")\n",
    "\n",
    "    if (len(a)>2) and (len(b)<11):\n",
    "        return'same length'\n",
    "    else:\n",
    "        return'not same'\n",
    "length()    "
   ]
  },
  {
   "cell_type": "code",
   "execution_count": null,
   "id": "e134d060",
   "metadata": {},
   "outputs": [],
   "source": []
  }
 ],
 "metadata": {
  "kernelspec": {
   "display_name": "Python 3",
   "language": "python",
   "name": "python3"
  },
  "language_info": {
   "codemirror_mode": {
    "name": "ipython",
    "version": 3
   },
   "file_extension": ".py",
   "mimetype": "text/x-python",
   "name": "python",
   "nbconvert_exporter": "python",
   "pygments_lexer": "ipython3",
   "version": "3.8.8"
  }
 },
 "nbformat": 4,
 "nbformat_minor": 5
}
