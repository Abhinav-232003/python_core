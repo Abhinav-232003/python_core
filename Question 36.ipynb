{
 "cells": [
  {
   "cell_type": "markdown",
   "id": "dfb02826",
   "metadata": {},
   "source": [
    "# Q. Define a function which can generate a dictionary where the keys are numbers between 1 and 20 (both included) and the values are square of keys. The function should just print the keys only. "
   ]
  },
  {
   "cell_type": "code",
   "execution_count": 1,
   "id": "43ba6285",
   "metadata": {},
   "outputs": [
    {
     "data": {
      "text/plain": [
       "dict_keys([1, 2, 3, 4, 5, 6, 7, 8, 9, 10, 11, 12, 13, 14, 15, 16, 17, 18, 19, 20])"
      ]
     },
     "execution_count": 1,
     "metadata": {},
     "output_type": "execute_result"
    }
   ],
   "source": [
    "def keys():\n",
    "    my_dict = {i:i*i for i in range(1,21)}\n",
    "    return my_dict.keys()\n",
    "keys()"
   ]
  },
  {
   "cell_type": "code",
   "execution_count": null,
   "id": "bf3d721b",
   "metadata": {},
   "outputs": [],
   "source": []
  }
 ],
 "metadata": {
  "kernelspec": {
   "display_name": "Python 3",
   "language": "python",
   "name": "python3"
  },
  "language_info": {
   "codemirror_mode": {
    "name": "ipython",
    "version": 3
   },
   "file_extension": ".py",
   "mimetype": "text/x-python",
   "name": "python",
   "nbconvert_exporter": "python",
   "pygments_lexer": "ipython3",
   "version": "3.8.8"
  }
 },
 "nbformat": 4,
 "nbformat_minor": 5
}
