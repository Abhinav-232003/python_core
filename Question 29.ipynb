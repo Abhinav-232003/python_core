{
 "cells": [
  {
   "cell_type": "markdown",
   "id": "78c304d3",
   "metadata": {},
   "source": [
    "# Q. Define a function that can receive two integral numbers in string form and compute their sum and then print it in console. "
   ]
  },
  {
   "cell_type": "code",
   "execution_count": 1,
   "id": "e9653b31",
   "metadata": {},
   "outputs": [
    {
     "data": {
      "text/plain": [
       "30"
      ]
     },
     "execution_count": 1,
     "metadata": {},
     "output_type": "execute_result"
    }
   ],
   "source": [
    "def integer():\n",
    "    a='10'\n",
    "    b='20'\n",
    "    c=int(a)\n",
    "    d=int(b)\n",
    "    e=c+d\n",
    "    return e\n",
    "integer()"
   ]
  }
 ],
 "metadata": {
  "kernelspec": {
   "display_name": "Python 3",
   "language": "python",
   "name": "python3"
  },
  "language_info": {
   "codemirror_mode": {
    "name": "ipython",
    "version": 3
   },
   "file_extension": ".py",
   "mimetype": "text/x-python",
   "name": "python",
   "nbconvert_exporter": "python",
   "pygments_lexer": "ipython3",
   "version": "3.8.8"
  }
 },
 "nbformat": 4,
 "nbformat_minor": 5
}
