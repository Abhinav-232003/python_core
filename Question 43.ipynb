{
 "cells": [
  {
   "cell_type": "markdown",
   "id": "139b7a6a",
   "metadata": {},
   "source": [
    "# Q. Write a program to generate and print another tuple whose values are even numbers in the given tuple (1,2,3,4,5,6,7,8,9,10). "
   ]
  },
  {
   "cell_type": "code",
   "execution_count": 1,
   "id": "da9210df",
   "metadata": {},
   "outputs": [
    {
     "name": "stdout",
     "output_type": "stream",
     "text": [
      "(2, 4, 6, 8, 10)\n"
     ]
    }
   ],
   "source": [
    "l = []\n",
    "\n",
    "t = (1,2,3,4,5,6,7,8,9,10)\n",
    "for i in t:\n",
    "    if i%2==0:\n",
    "        l.append(i)\n",
    "print(tuple(l)) "
   ]
  },
  {
   "cell_type": "code",
   "execution_count": null,
   "id": "11669f52",
   "metadata": {},
   "outputs": [],
   "source": []
  }
 ],
 "metadata": {
  "kernelspec": {
   "display_name": "Python 3",
   "language": "python",
   "name": "python3"
  },
  "language_info": {
   "codemirror_mode": {
    "name": "ipython",
    "version": 3
   },
   "file_extension": ".py",
   "mimetype": "text/x-python",
   "name": "python",
   "nbconvert_exporter": "python",
   "pygments_lexer": "ipython3",
   "version": "3.8.8"
  }
 },
 "nbformat": 4,
 "nbformat_minor": 5
}
