{
 "cells": [
  {
   "cell_type": "markdown",
   "id": "8134de5f",
   "metadata": {},
   "source": [
    "# Q. Write a program which accepts a sequence of comma separated 4 digit binary numbers as its input and then check whether they are divisible by 5 or not. The numbers that are divisible by 5 are to be printed in a comma separated sequence. \n",
    "# Suppose the input is supplied to the program: 0100,0011,1010,1001  "
   ]
  },
  {
   "cell_type": "code",
   "execution_count": 1,
   "id": "964c5601",
   "metadata": {},
   "outputs": [
    {
     "name": "stdout",
     "output_type": "stream",
     "text": [
      "10\n"
     ]
    }
   ],
   "source": [
    "b=('0100','0011','1010','1001')\n",
    "for i in b:\n",
    "    a = int(i,2)\n",
    "    if a%5==0:\n",
    "        print(a)"
   ]
  }
 ],
 "metadata": {
  "kernelspec": {
   "display_name": "Python 3",
   "language": "python",
   "name": "python3"
  },
  "language_info": {
   "codemirror_mode": {
    "name": "ipython",
    "version": 3
   },
   "file_extension": ".py",
   "mimetype": "text/x-python",
   "name": "python",
   "nbconvert_exporter": "python",
   "pygments_lexer": "ipython3",
   "version": "3.8.8"
  }
 },
 "nbformat": 4,
 "nbformat_minor": 5
}
