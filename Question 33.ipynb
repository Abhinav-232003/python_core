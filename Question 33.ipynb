{
 "cells": [
  {
   "cell_type": "markdown",
   "id": "69504ec4",
   "metadata": {},
   "source": [
    "# Q. Define a function which can print a dictionary where the keys are numbers between 1 and 3 (both included) and the values are square of keys. "
   ]
  },
  {
   "cell_type": "code",
   "execution_count": 1,
   "id": "ed132b8c",
   "metadata": {},
   "outputs": [
    {
     "data": {
      "text/plain": [
       "{1: 1, 2: 4, 3: 9}"
      ]
     },
     "execution_count": 1,
     "metadata": {},
     "output_type": "execute_result"
    }
   ],
   "source": [
    "def dict_keys():\n",
    "    my_dict={i:i*i for i in range(1,4)}\n",
    "    return my_dict\n",
    "    \n",
    "dict_keys() \n"
   ]
  }
 ],
 "metadata": {
  "kernelspec": {
   "display_name": "Python 3",
   "language": "python",
   "name": "python3"
  },
  "language_info": {
   "codemirror_mode": {
    "name": "ipython",
    "version": 3
   },
   "file_extension": ".py",
   "mimetype": "text/x-python",
   "name": "python",
   "nbconvert_exporter": "python",
   "pygments_lexer": "ipython3",
   "version": "3.8.8"
  }
 },
 "nbformat": 4,
 "nbformat_minor": 5
}
