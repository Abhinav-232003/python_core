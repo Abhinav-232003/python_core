{
 "cells": [
  {
   "cell_type": "markdown",
   "id": "560fdca9",
   "metadata": {},
   "source": [
    "# Q. Define a function that can accept an integer number as input and print the \"It is an even number\" if the number is even, otherwise print \"It is an odd number\". "
   ]
  },
  {
   "cell_type": "code",
   "execution_count": 1,
   "id": "890d9c46",
   "metadata": {},
   "outputs": [
    {
     "name": "stdout",
     "output_type": "stream",
     "text": [
      "odd no 1\n",
      "even no 2\n",
      "odd no 3\n",
      "even no 4\n",
      "odd no 5\n",
      "even no 6\n",
      "odd no 7\n",
      "even no 8\n",
      "odd no 9\n",
      "even no 10\n"
     ]
    }
   ],
   "source": [
    "def even_odd():\n",
    "    for i in range(1,11):\n",
    "        if i%2==0:\n",
    "            print('even no',i)\n",
    "        else:\n",
    "            print('odd no',i)\n",
    "even_odd()        "
   ]
  }
 ],
 "metadata": {
  "kernelspec": {
   "display_name": "Python 3",
   "language": "python",
   "name": "python3"
  },
  "language_info": {
   "codemirror_mode": {
    "name": "ipython",
    "version": 3
   },
   "file_extension": ".py",
   "mimetype": "text/x-python",
   "name": "python",
   "nbconvert_exporter": "python",
   "pygments_lexer": "ipython3",
   "version": "3.8.8"
  }
 },
 "nbformat": 4,
 "nbformat_minor": 5
}
