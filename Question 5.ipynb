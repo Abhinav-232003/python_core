{
 "cells": [
  {
   "cell_type": "markdown",
   "id": "29b2c00d",
   "metadata": {},
   "source": [
    "# Q. Define a class which has at least two methods: \n",
    "# getString: to get a string from console input \n",
    "# printString: to print the string in upper case. "
   ]
  },
  {
   "cell_type": "code",
   "execution_count": 1,
   "id": "d4215aac",
   "metadata": {},
   "outputs": [
    {
     "name": "stdout",
     "output_type": "stream",
     "text": [
      "abhinav\n",
      "ABHINAV\n"
     ]
    }
   ],
   "source": [
    "class string:\n",
    "    def __init__(self):\n",
    "        global a\n",
    "        a=input()\n",
    "    def upper(self):\n",
    "        b=a.upper()\n",
    "        print(b)\n",
    "obj=string()\n",
    "obj.upper()"
   ]
  }
 ],
 "metadata": {
  "kernelspec": {
   "display_name": "Python 3",
   "language": "python",
   "name": "python3"
  },
  "language_info": {
   "codemirror_mode": {
    "name": "ipython",
    "version": 3
   },
   "file_extension": ".py",
   "mimetype": "text/x-python",
   "name": "python",
   "nbconvert_exporter": "python",
   "pygments_lexer": "ipython3",
   "version": "3.8.8"
  }
 },
 "nbformat": 4,
 "nbformat_minor": 5
}
