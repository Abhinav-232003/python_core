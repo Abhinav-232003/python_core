{
 "cells": [
  {
   "cell_type": "markdown",
   "id": "831ed55f",
   "metadata": {},
   "source": [
    "# Q. Define a function which can generate a list where the values are square of numbers between 1 and 20 (both included).Then the function needs to print the first 5 elements in the list. "
   ]
  },
  {
   "cell_type": "code",
   "execution_count": 1,
   "id": "9dadeaed",
   "metadata": {},
   "outputs": [
    {
     "name": "stdout",
     "output_type": "stream",
     "text": [
      "[1, 4, 9, 16, 25, 36, 49, 64, 81, 100, 121, 144, 169, 196, 225, 256, 289, 324, 361, 400]\n",
      "[1, 4, 9, 16, 25, 36]\n"
     ]
    }
   ],
   "source": [
    "def square_of_values():\n",
    "    l =[]\n",
    "    \n",
    "    lst = [1,2,3,4,5,6,7,8,9,10,11,12,13,14,15,16,17,18,19,20]\n",
    "    for i in lst:\n",
    "        l.append(i*i)\n",
    "    print(l)\n",
    "    print(l[0:6])\n",
    "    \n",
    "square_of_values()    "
   ]
  }
 ],
 "metadata": {
  "kernelspec": {
   "display_name": "Python 3",
   "language": "python",
   "name": "python3"
  },
  "language_info": {
   "codemirror_mode": {
    "name": "ipython",
    "version": 3
   },
   "file_extension": ".py",
   "mimetype": "text/x-python",
   "name": "python",
   "nbconvert_exporter": "python",
   "pygments_lexer": "ipython3",
   "version": "3.8.8"
  }
 },
 "nbformat": 4,
 "nbformat_minor": 5
}
