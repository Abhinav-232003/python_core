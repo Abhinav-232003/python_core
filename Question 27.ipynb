{
 "cells": [
  {
   "cell_type": "markdown",
   "id": "e5b513c4",
   "metadata": {},
   "source": [
    "# Q. Define a function that can convert a integer into a string and print it in console. "
   ]
  },
  {
   "cell_type": "code",
   "execution_count": 1,
   "id": "709d3a1a",
   "metadata": {},
   "outputs": [
    {
     "data": {
      "text/plain": [
       "'10'"
      ]
     },
     "execution_count": 1,
     "metadata": {},
     "output_type": "execute_result"
    }
   ],
   "source": [
    "def string():\n",
    "    a=10\n",
    "    return str(a)\n",
    "string()"
   ]
  }
 ],
 "metadata": {
  "kernelspec": {
   "display_name": "Python 3",
   "language": "python",
   "name": "python3"
  },
  "language_info": {
   "codemirror_mode": {
    "name": "ipython",
    "version": 3
   },
   "file_extension": ".py",
   "mimetype": "text/x-python",
   "name": "python",
   "nbconvert_exporter": "python",
   "pygments_lexer": "ipython3",
   "version": "3.8.8"
  }
 },
 "nbformat": 4,
 "nbformat_minor": 5
}
