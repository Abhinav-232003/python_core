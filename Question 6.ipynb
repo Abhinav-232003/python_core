{
 "cells": [
  {
   "cell_type": "markdown",
   "id": "d3ffeab0",
   "metadata": {},
   "source": [
    "# Q. Write a program that calculates and prints the value according to the given formula: \n",
    "# Q = Square root of [(2 * C * D)/H] \n",
    "# Following are the fixed values of C and H: C is 50. H is 30. \n",
    "# D is the variable whose values should be input to your program in a comma-separated sequence. \n",
    "# Let us assume the following comma separated input sequence is given to the program: 100,150,180 "
   ]
  },
  {
   "cell_type": "code",
   "execution_count": 5,
   "id": "a12f6446",
   "metadata": {},
   "outputs": [
    {
     "name": "stdout",
     "output_type": "stream",
     "text": [
      "enter number100\n",
      "18\n"
     ]
    }
   ],
   "source": [
    "import math\n",
    "# Q = Square root of [(2 * C * D)/H]\n",
    "d = int(input('enter number'))\n",
    "c = 50\n",
    "h = 30\n",
    "q = math.sqrt((2 * c * d)/h)\n",
    "print(round(q))"
   ]
  }
 ],
 "metadata": {
  "kernelspec": {
   "display_name": "Python 3",
   "language": "python",
   "name": "python3"
  },
  "language_info": {
   "codemirror_mode": {
    "name": "ipython",
    "version": 3
   },
   "file_extension": ".py",
   "mimetype": "text/x-python",
   "name": "python",
   "nbconvert_exporter": "python",
   "pygments_lexer": "ipython3",
   "version": "3.8.8"
  }
 },
 "nbformat": 4,
 "nbformat_minor": 5
}
