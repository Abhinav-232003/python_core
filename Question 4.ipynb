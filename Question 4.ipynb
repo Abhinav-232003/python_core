{
 "cells": [
  {
   "cell_type": "markdown",
   "id": "d23a4e39",
   "metadata": {},
   "source": [
    "# Q. Write a program which accepts a sequence of comma-separated numbers from console and generate a list and a tuple which contains every number. "
   ]
  },
  {
   "cell_type": "code",
   "execution_count": 1,
   "id": "890682df",
   "metadata": {},
   "outputs": [],
   "source": [
    "list1=[34, 67, 55, 33, 12, 98]\n",
    "a = tuple(list1)\n",
    "b=list(list1)"
   ]
  },
  {
   "cell_type": "code",
   "execution_count": 2,
   "id": "44ba4b0d",
   "metadata": {},
   "outputs": [
    {
     "name": "stdout",
     "output_type": "stream",
     "text": [
      "(34, 67, 55, 33, 12, 98)\n",
      "[34, 67, 55, 33, 12, 98]\n"
     ]
    }
   ],
   "source": [
    "print(a)\n",
    "print(b)"
   ]
  }
 ],
 "metadata": {
  "kernelspec": {
   "display_name": "Python 3",
   "language": "python",
   "name": "python3"
  },
  "language_info": {
   "codemirror_mode": {
    "name": "ipython",
    "version": 3
   },
   "file_extension": ".py",
   "mimetype": "text/x-python",
   "name": "python",
   "nbconvert_exporter": "python",
   "pygments_lexer": "ipython3",
   "version": "3.8.8"
  }
 },
 "nbformat": 4,
 "nbformat_minor": 5
}
