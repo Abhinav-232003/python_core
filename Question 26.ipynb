{
 "cells": [
  {
   "cell_type": "markdown",
   "id": "6d4f1c81",
   "metadata": {},
   "source": [
    "# Q. Define a function which can compute the sum of two numbers. "
   ]
  },
  {
   "cell_type": "code",
   "execution_count": 2,
   "id": "3fcf98cc",
   "metadata": {},
   "outputs": [
    {
     "data": {
      "text/plain": [
       "100"
      ]
     },
     "execution_count": 2,
     "metadata": {},
     "output_type": "execute_result"
    }
   ],
   "source": [
    "def add():\n",
    "    a=50\n",
    "    b=50\n",
    "    return a+b\n",
    "add()    "
   ]
  }
 ],
 "metadata": {
  "kernelspec": {
   "display_name": "Python 3",
   "language": "python",
   "name": "python3"
  },
  "language_info": {
   "codemirror_mode": {
    "name": "ipython",
    "version": 3
   },
   "file_extension": ".py",
   "mimetype": "text/x-python",
   "name": "python",
   "nbconvert_exporter": "python",
   "pygments_lexer": "ipython3",
   "version": "3.8.8"
  }
 },
 "nbformat": 4,
 "nbformat_minor": 5
}
