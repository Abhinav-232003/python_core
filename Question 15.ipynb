{
 "cells": [
  {
   "cell_type": "markdown",
   "id": "a64cf488",
   "metadata": {},
   "source": [
    "# Q. Write a program that computes the value of a+aa+aaa+aaaa with a given digit as the value of a. \n",
    "# Suppose the input is supplied to the program: 9 "
   ]
  },
  {
   "cell_type": "code",
   "execution_count": 1,
   "id": "4d7c2cce",
   "metadata": {},
   "outputs": [
    {
     "name": "stdout",
     "output_type": "stream",
     "text": [
      "enter an integer9\n",
      "11106\n"
     ]
    }
   ],
   "source": [
    "a = int(input('enter an integer'))\n",
    "n1 = int(\"%s\" % a)\n",
    "n2 = int(\"%s%s\" % (a,a))\n",
    "n3 = int(\"%s%s%s\" % (a,a,a))\n",
    "n4 = int(\"%s%s%s%s\" % (a,a,a,a))\n",
    "print(n1+n2+n3+n4)"
   ]
  }
 ],
 "metadata": {
  "kernelspec": {
   "display_name": "Python 3",
   "language": "python",
   "name": "python3"
  },
  "language_info": {
   "codemirror_mode": {
    "name": "ipython",
    "version": 3
   },
   "file_extension": ".py",
   "mimetype": "text/x-python",
   "name": "python",
   "nbconvert_exporter": "python",
   "pygments_lexer": "ipython3",
   "version": "3.8.8"
  }
 },
 "nbformat": 4,
 "nbformat_minor": 5
}
