{
 "cells": [
  {
   "cell_type": "markdown",
   "id": "c679073a",
   "metadata": {},
   "source": [
    "# Q. Define a function that can accept two strings as input and concatenate them and then print it in console. "
   ]
  },
  {
   "cell_type": "code",
   "execution_count": 1,
   "id": "21d9a1dd",
   "metadata": {},
   "outputs": [
    {
     "data": {
      "text/plain": [
       "'he is a boy concatenate them'"
      ]
     },
     "execution_count": 1,
     "metadata": {},
     "output_type": "execute_result"
    }
   ],
   "source": [
    "def concatenate():\n",
    "    a= 'he is a boy' \n",
    "    a = a +  \" concatenate them\"\n",
    "    return a\n",
    "concatenate()"
   ]
  },
  {
   "cell_type": "code",
   "execution_count": null,
   "id": "42dbbef6",
   "metadata": {},
   "outputs": [],
   "source": []
  }
 ],
 "metadata": {
  "kernelspec": {
   "display_name": "Python 3",
   "language": "python",
   "name": "python3"
  },
  "language_info": {
   "codemirror_mode": {
    "name": "ipython",
    "version": 3
   },
   "file_extension": ".py",
   "mimetype": "text/x-python",
   "name": "python",
   "nbconvert_exporter": "python",
   "pygments_lexer": "ipython3",
   "version": "3.8.8"
  }
 },
 "nbformat": 4,
 "nbformat_minor": 5
}
