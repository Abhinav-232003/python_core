{
 "cells": [
  {
   "cell_type": "markdown",
   "id": "cfb3f329",
   "metadata": {},
   "source": [
    "# Q. Write a program that accepts a comma separated sequence of words as input and prints the words in a comma-separatedsequence after sorting them alphabetically. \n",
    "# Suppose the input is supplied to the program: without, hello, bag, world "
   ]
  },
  {
   "cell_type": "code",
   "execution_count": 1,
   "id": "bb5ff42d",
   "metadata": {},
   "outputs": [
    {
     "name": "stdout",
     "output_type": "stream",
     "text": [
      "['bag', 'hello', 'without', 'world']\n"
     ]
    }
   ],
   "source": [
    "a=['without','hello','bag','world']\n",
    "a.sort()\n",
    "print(a)"
   ]
  }
 ],
 "metadata": {
  "kernelspec": {
   "display_name": "Python 3",
   "language": "python",
   "name": "python3"
  },
  "language_info": {
   "codemirror_mode": {
    "name": "ipython",
    "version": 3
   },
   "file_extension": ".py",
   "mimetype": "text/x-python",
   "name": "python",
   "nbconvert_exporter": "python",
   "pygments_lexer": "ipython3",
   "version": "3.8.8"
  }
 },
 "nbformat": 4,
 "nbformat_minor": 5
}
